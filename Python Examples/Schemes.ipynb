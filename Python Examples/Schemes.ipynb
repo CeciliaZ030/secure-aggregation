{
 "cells": [
  {
   "cell_type": "code",
   "execution_count": 1,
   "metadata": {},
   "outputs": [],
   "source": [
    "import random\n",
    "\n",
    "P = 41\n",
    "\n",
    "def encode(x):\n",
    "    return x % P\n",
    "\n",
    "def decode(x):\n",
    "    return x if x <= P/2 else x - P"
   ]
  },
  {
   "cell_type": "code",
   "execution_count": 2,
   "metadata": {},
   "outputs": [
    {
     "name": "stdout",
     "output_type": "stream",
     "text": [
      "encoded: 36\n",
      "decoded: -5\n"
     ]
    }
   ],
   "source": [
    "x = encode(-5)\n",
    "print(\"encoded: %d\" % x)\n",
    "print(\"decoded: %d\" % decode(x))"
   ]
  },
  {
   "cell_type": "code",
   "execution_count": 14,
   "metadata": {},
   "outputs": [],
   "source": [
    "# Extended Euclidian Alg\n",
    "# ax + by= gcd(a,b)\n",
    "# return gcd(a,b), a, b\n",
    "\n",
    "def egcd(a, b):\n",
    "    if a == 0:\n",
    "        return (b, 0, 1)\n",
    "    else:\n",
    "        g, y, x = egcd(b % a, a)\n",
    "        return (g, x - (b // a) * y, y)\n",
    "\n",
    "def egcd_binary(a,b):\n",
    "    u, v, s, t, r = 1, 0, 0, 1, 0\n",
    "    while (a % 2 == 0) and (b % 2 == 0):\n",
    "        a, b, r = a//2, b//2, r+1\n",
    "    alpha, beta = a, b\n",
    "    while (a % 2 == 0):\n",
    "        a = a//2\n",
    "        if (u % 2 == 0) and (v % 2 == 0):\n",
    "            u, v = u//2, v//2\n",
    "        else:\n",
    "            u, v = (u + beta)//2, (v - alpha)//2\n",
    "    while a != b:\n",
    "        if (b % 2 == 0):\n",
    "            b = b//2\n",
    "            if (s % 2 == 0) and (t % 2 == 0):\n",
    "                s, t = s//2, t//2\n",
    "            else:\n",
    "                s, t = (s + beta)//2, (t - alpha)//2\n",
    "        elif b < a:\n",
    "            a, b, u, v, s, t = b, a, s, t, u, v\n",
    "        else:\n",
    "            b, s, t = b - a, s - u, t - v\n",
    "    return (2 ** r) * a, s, t\n",
    "\n",
    "\n",
    "def inverse(a):\n",
    "    _, b, _ = egcd_binary(a, P)\n",
    "    return b"
   ]
  },
  {
   "cell_type": "markdown",
   "metadata": {},
   "source": [
    "## Polynomials\n",
    "#### Coeffecient representation and Lagrange polynomial\n",
    "Two types of polynomial representations:\n",
    "- f(x) = a0 + a1x + a2x^2 + ... + anx^n\n",
    "- [1, f(1)], [2, f(2)], ... [n+1, f(n+1)]\n"
   ]
  },
  {
   "cell_type": "code",
   "execution_count": 15,
   "metadata": {},
   "outputs": [],
   "source": [
    "# using Horner's rule\n",
    "# f(x) = a0 + a1x + a2x^2 + ... + anx^n\n",
    "#      = a0 + x (a1 + x (a2 + x (....(an + x))))\n",
    "\n",
    "def evaluate_at_point(coefs, point):\n",
    "    result = 0\n",
    "    for coef in reversed(coefs):\n",
    "        result = (coef + point * result) % P\n",
    "    return result\n",
    "\n",
    "# see https://en.wikipedia.org/wiki/Lagrange_polynomial\n",
    "# lj(x) = [(x - x1)/(xj - x1)][(x - x2)/(xj - x2)]....[(x - xn)/(xj - xn)]\n",
    "# return l0(point), l1(point), ... ln(pont)\n",
    "\n",
    "def lagrange_constants_for_point(points, point):\n",
    "    constants = [0] * len(points)\n",
    "    for i in range(len(points)):\n",
    "        xi = points[i]\n",
    "        num = 1\n",
    "        denum = 1\n",
    "        for j in range(len(points)):\n",
    "            if j != i:\n",
    "                xj = points[j]\n",
    "                num = (num * (xj - point)) % P\n",
    "                denum = (denum * (xj - xi)) % P\n",
    "        constants[i] = (num * inverse(denum)) % P\n",
    "    return constants\n",
    "\n",
    "# return f(point) given (points, values) pairs that represent f\n",
    "def interpolate_at_point(points_values, point):\n",
    "    points, values = zip(*points_values)\n",
    "    constants = lagrange_constants_for_point(points, point)\n",
    "    return sum( vi * ci for vi, ci in zip(values, constants) ) % P"
   ]
  },
  {
   "cell_type": "markdown",
   "metadata": {},
   "source": [
    "## Shamir sharing"
   ]
  },
  {
   "cell_type": "code",
   "execution_count": 16,
   "metadata": {},
   "outputs": [],
   "source": [
    "# shre among 10 parites\n",
    "# need more than 4 parties to recover\n",
    "\n",
    "N = 10\n",
    "SHARE_POINTS = [ p for p in range(1, N+1) ]\n",
    "\n",
    "T = 4\n",
    "def sample_shamir_polynomial(zero_value):\n",
    "    coefs = [zero_value] + [random.randrange(P) for _ in range(T)]\n",
    "    return coefs"
   ]
  },
  {
   "cell_type": "code",
   "execution_count": 17,
   "metadata": {},
   "outputs": [],
   "source": [
    "# generate poly and plug in points to caculate shares\n",
    "\n",
    "def shamir_share(secret):\n",
    "    polynomial = sample_shamir_polynomial(secret)\n",
    "    shares = [ evaluate_at_point(polynomial, p) for p in SHARE_POINTS ]\n",
    "    return shares\n",
    "\n",
    "# reconstruct by lagrange interpolation\n",
    "\n",
    "def shamir_reconstruct(shares):\n",
    "    polynomial = [ (p,v) for p,v in zip(SHARE_POINTS, shares) if v is not None ]\n",
    "    secret = interpolate_at_point(polynomial, 0)\n",
    "    return secret"
   ]
  },
  {
   "cell_type": "markdown",
   "metadata": {},
   "source": [
    "#### Sharing works!"
   ]
  },
  {
   "cell_type": "code",
   "execution_count": 18,
   "metadata": {},
   "outputs": [],
   "source": [
    "shares = shamir_share(5)\n",
    "\n",
    "for i in range(N-(T+1)):\n",
    "    shares[i] = None\n",
    "    \n",
    "#shares[-1] = None  # would fail; we need T+K points to reconstruct\n",
    "x = shamir_reconstruct(shares)\n",
    "assert(x == 5)"
   ]
  },
  {
   "cell_type": "markdown",
   "metadata": {},
   "source": [
    "#### Operations  and Class"
   ]
  },
  {
   "cell_type": "code",
   "execution_count": 19,
   "metadata": {},
   "outputs": [],
   "source": [
    "# x, y are shares array\n",
    "# all return resultant z array\n",
    "\n",
    "def shamir_add(x, y):\n",
    "    return [ (xi + yi) % P for xi, yi in zip(x, y) ]\n",
    "\n",
    "def shamir_sub(x, y):\n",
    "    return [ (xi - yi) % P for xi, yi in zip(x, y) ]\n",
    "\n",
    "def shamir_mul(x, y):\n",
    "    return [ (xi * yi) % P for xi, yi in zip(x, y) ]"
   ]
  },
  {
   "cell_type": "code",
   "execution_count": 22,
   "metadata": {},
   "outputs": [],
   "source": [
    "class Shamir:\n",
    "    \n",
    "    def __init__(self, secret=None):\n",
    "        # generate shares as initialized\n",
    "        # record initial degree\n",
    "        self.shares = shamir_share(encode(secret)) if secret is not None else []\n",
    "        self.degree = T\n",
    "    \n",
    "    def reveal(self):\n",
    "        # total shares have to be less than N in order for N parties to reconstruct\n",
    "        assert(self.degree+1 <= N)\n",
    "        # use all shares to reconstruct regardless\n",
    "        return decode(shamir_reconstruct(self.shares))\n",
    "    \n",
    "    def __repr__(self):\n",
    "        print(\"shares\", self.shares)\n",
    "        return \"Shamir(%d)\" % self.reveal()\n",
    "    \n",
    "    # construct Shamir class to as the result\n",
    "    # set class var via add, sub and mul functions\n",
    "    \n",
    "    def __add__(x, y):\n",
    "        z = Shamir()\n",
    "        z.shares = shamir_add(x.shares, y.shares)\n",
    "        z.degree = max(x.degree, y.degree)\n",
    "        return z\n",
    "    \n",
    "    def __sub__(x, y):\n",
    "        z = Shamir()\n",
    "        z.shares = shamir_sub(x.shares, y.shares)\n",
    "        z.degree = max(x.degree, y.degree)\n",
    "        return z\n",
    "    \n",
    "    def __mul__(x, y):\n",
    "        z = Shamir()\n",
    "        z.shares = shamir_mul(x.shares, y.shares)\n",
    "        # don't need to bring down degree here as long as total degree < N\n",
    "        z.degree = x.degree + y.degree\n",
    "        return z"
   ]
  },
  {
   "cell_type": "code",
   "execution_count": 26,
   "metadata": {},
   "outputs": [
    {
     "name": "stdout",
     "output_type": "stream",
     "text": [
      "shares [11, 29, 31, 27, 21, 11, 30, 23, 11, 9]\n",
      "Shamir(2)\n",
      "shares [31, 25, 18, 12, 19, 20, 6, 19, 29, 16]\n",
      "Shamir(3)\n",
      "\n",
      "Sub  shares [21, 4, 13, 15, 2, 32, 24, 4, 23, 34]\n",
      "Shamir(-1)\n",
      "\n",
      "Mul shares [13, 28, 25, 37, 30, 15, 16, 27, 32, 21]\n",
      "Shamir(6)\n"
     ]
    }
   ],
   "source": [
    "x = Shamir(2)\n",
    "print(x)\n",
    "\n",
    "y = Shamir(3)\n",
    "print(y)\n",
    "\n",
    "z = x - y\n",
    "print(\"\\nSub \", z)\n",
    "assert(z.reveal() == -1)\n",
    "\n",
    "v = x * y\n",
    "print(\"\\nMul\", v)\n",
    "assert(v.reveal() == 6)"
   ]
  },
  {
   "cell_type": "code",
   "execution_count": 28,
   "metadata": {},
   "outputs": [
    {
     "name": "stdout",
     "output_type": "stream",
     "text": [
      "shares [20, 33, 37, 15, 15, 1, 29, 6, 24, 25]\n"
     ]
    },
    {
     "ename": "AssertionError",
     "evalue": "",
     "output_type": "error",
     "traceback": [
      "\u001b[0;31m---------------------------------------------------------------------------\u001b[0m",
      "\u001b[0;31mAssertionError\u001b[0m                            Traceback (most recent call last)",
      "\u001b[0;32m<ipython-input-28-827c831729cd>\u001b[0m in \u001b[0;36m<module>\u001b[0;34m()\u001b[0m\n\u001b[1;32m      1\u001b[0m \u001b[0mw\u001b[0m \u001b[0;34m=\u001b[0m \u001b[0mx\u001b[0m \u001b[0;34m*\u001b[0m \u001b[0mv\u001b[0m\u001b[0;34m\u001b[0m\u001b[0;34m\u001b[0m\u001b[0m\n\u001b[0;32m----> 2\u001b[0;31m \u001b[0mprint\u001b[0m\u001b[0;34m(\u001b[0m\u001b[0mw\u001b[0m\u001b[0;34m)\u001b[0m\u001b[0;34m\u001b[0m\u001b[0;34m\u001b[0m\u001b[0m\n\u001b[0m",
      "\u001b[0;32m<ipython-input-22-6bc9922832f6>\u001b[0m in \u001b[0;36m__repr__\u001b[0;34m(self)\u001b[0m\n\u001b[1;32m     14\u001b[0m     \u001b[0;32mdef\u001b[0m \u001b[0m__repr__\u001b[0m\u001b[0;34m(\u001b[0m\u001b[0mself\u001b[0m\u001b[0;34m)\u001b[0m\u001b[0;34m:\u001b[0m\u001b[0;34m\u001b[0m\u001b[0;34m\u001b[0m\u001b[0m\n\u001b[1;32m     15\u001b[0m         \u001b[0mprint\u001b[0m\u001b[0;34m(\u001b[0m\u001b[0;34m\"shares\"\u001b[0m\u001b[0;34m,\u001b[0m \u001b[0mself\u001b[0m\u001b[0;34m.\u001b[0m\u001b[0mshares\u001b[0m\u001b[0;34m)\u001b[0m\u001b[0;34m\u001b[0m\u001b[0;34m\u001b[0m\u001b[0m\n\u001b[0;32m---> 16\u001b[0;31m         \u001b[0;32mreturn\u001b[0m \u001b[0;34m\"Shamir(%d)\"\u001b[0m \u001b[0;34m%\u001b[0m \u001b[0mself\u001b[0m\u001b[0;34m.\u001b[0m\u001b[0mreveal\u001b[0m\u001b[0;34m(\u001b[0m\u001b[0;34m)\u001b[0m\u001b[0;34m\u001b[0m\u001b[0;34m\u001b[0m\u001b[0m\n\u001b[0m\u001b[1;32m     17\u001b[0m \u001b[0;34m\u001b[0m\u001b[0m\n\u001b[1;32m     18\u001b[0m     \u001b[0;32mdef\u001b[0m \u001b[0m__add__\u001b[0m\u001b[0;34m(\u001b[0m\u001b[0mx\u001b[0m\u001b[0;34m,\u001b[0m \u001b[0my\u001b[0m\u001b[0;34m)\u001b[0m\u001b[0;34m:\u001b[0m\u001b[0;34m\u001b[0m\u001b[0;34m\u001b[0m\u001b[0m\n",
      "\u001b[0;32m<ipython-input-22-6bc9922832f6>\u001b[0m in \u001b[0;36mreveal\u001b[0;34m(self)\u001b[0m\n\u001b[1;32m      9\u001b[0m     \u001b[0;32mdef\u001b[0m \u001b[0mreveal\u001b[0m\u001b[0;34m(\u001b[0m\u001b[0mself\u001b[0m\u001b[0;34m)\u001b[0m\u001b[0;34m:\u001b[0m\u001b[0;34m\u001b[0m\u001b[0;34m\u001b[0m\u001b[0m\n\u001b[1;32m     10\u001b[0m         \u001b[0;31m# total shares have to be less than N in order for N parties to reconstruct\u001b[0m\u001b[0;34m\u001b[0m\u001b[0;34m\u001b[0m\u001b[0;34m\u001b[0m\u001b[0m\n\u001b[0;32m---> 11\u001b[0;31m         \u001b[0;32massert\u001b[0m\u001b[0;34m(\u001b[0m\u001b[0mself\u001b[0m\u001b[0;34m.\u001b[0m\u001b[0mdegree\u001b[0m\u001b[0;34m+\u001b[0m\u001b[0;36m1\u001b[0m \u001b[0;34m<=\u001b[0m \u001b[0mN\u001b[0m\u001b[0;34m)\u001b[0m\u001b[0;34m\u001b[0m\u001b[0;34m\u001b[0m\u001b[0m\n\u001b[0m\u001b[1;32m     12\u001b[0m         \u001b[0;32mreturn\u001b[0m \u001b[0mdecode\u001b[0m\u001b[0;34m(\u001b[0m\u001b[0mshamir_reconstruct\u001b[0m\u001b[0;34m(\u001b[0m\u001b[0mself\u001b[0m\u001b[0;34m.\u001b[0m\u001b[0mshares\u001b[0m\u001b[0;34m)\u001b[0m\u001b[0;34m)\u001b[0m\u001b[0;34m\u001b[0m\u001b[0;34m\u001b[0m\u001b[0m\n\u001b[1;32m     13\u001b[0m \u001b[0;34m\u001b[0m\u001b[0m\n",
      "\u001b[0;31mAssertionError\u001b[0m: "
     ]
    }
   ],
   "source": [
    "# Can't mul again since degree exceed\n",
    "# w.degree = x.degree + v.degree = 4 + 8 = 12 > 10\n",
    "w = x * v\n",
    "print(w)"
   ]
  },
  {
   "cell_type": "markdown",
   "metadata": {},
   "source": [
    "## Packed sharing"
   ]
  },
  {
   "cell_type": "code",
   "execution_count": 29,
   "metadata": {},
   "outputs": [],
   "source": [
    "# shares among 20 parties\n",
    "N = 20\n",
    "# T and K together defines the poly, 10 pairs in total\n",
    "# 8 points of random values\n",
    "T = 8\n",
    "# 2 points that actually evaluates to the securet\n",
    "K = 2\n",
    "\n",
    "assert(T+K <= N)"
   ]
  },
  {
   "cell_type": "code",
   "execution_count": 30,
   "metadata": {},
   "outputs": [],
   "source": [
    "SECRET_POINTS =     [ -p % P for p in range(1, K+1) ]\n",
    "RANDOMNESS_POINTS = [ -p % P for p in range(K+1, K+T+1) ]\n",
    "assert(set(SECRET_POINTS).intersection(RANDOMNESS_POINTS) == set())\n",
    "\n",
    "# return 10 pairs that uniquly define the poly\n",
    "def sample_packed_polynomial(secrets):\n",
    "    assert(len(secrets) == K)\n",
    "    # [1, 2] + [3, 4, ... 10]\n",
    "    points = SECRET_POINTS + RANDOMNESS_POINTS\n",
    "    # [secret1, secret2] + [random3, random4,...., random10]\n",
    "    values = secrets + [ random.randrange(P) for _ in range(T) ]\n",
    "    # (1, secret1), (2, secret2), (3, random3)....\n",
    "    return list(zip(points, values))"
   ]
  },
  {
   "cell_type": "code",
   "execution_count": 31,
   "metadata": {},
   "outputs": [],
   "source": [
    "SHARE_POINTS = [ p for p in range(1, N+1) ]\n",
    "assert(set(SHARE_POINTS).intersection(SECRET_POINTS) == set())\n",
    "assert(set(SHARE_POINTS).intersection(RANDOMNESS_POINTS) == set())\n",
    "\n",
    "def packed_share(secrets):\n",
    "    # define lagrange poly\n",
    "    polynomial = sample_packed_polynomial(secrets)\n",
    "    # evalute f(x1), f(x2),...,f(x20) as your shares\n",
    "    shares = [ interpolate_at_point(polynomial, p) for p in SHARE_POINTS ]\n",
    "    return shares\n",
    "\n",
    "def packed_reconstruct(shares):\n",
    "    points = SHARE_POINTS\n",
    "    values = shares\n",
    "    #(x1, share1), (x2, share2), ...,(x20, share20) forms the same lagrange poly\n",
    "    # because it's unique to all sampled points\n",
    "    polynomial = [ (p,v) for p,v in zip(points, values) if v is not None ]\n",
    "    # just do the opposite\n",
    "    # passing in points = [points where secrets are located] to get secret\n",
    "    secrets = [ interpolate_at_point(polynomial, p) for p in SECRET_POINTS ]\n",
    "    return secrets\n"
   ]
  },
  {
   "cell_type": "markdown",
   "metadata": {},
   "source": [
    "#### Packed works!"
   ]
  },
  {
   "cell_type": "code",
   "execution_count": 32,
   "metadata": {},
   "outputs": [],
   "source": [
    "secrets = [5,6]\n",
    "shares = packed_share(secrets)\n",
    "for i in range(N-(T+K)):\n",
    "    shares[i] = None\n",
    "#shares[-1] = None  # would fail; we need T+K points to reconstruct\n",
    "reconstructed_secrets = packed_reconstruct(shares)\n",
    "assert(reconstructed_secrets == secrets)"
   ]
  },
  {
   "cell_type": "markdown",
   "metadata": {},
   "source": [
    "#### Operations and Class"
   ]
  },
  {
   "cell_type": "code",
   "execution_count": 37,
   "metadata": {},
   "outputs": [],
   "source": [
    "def packed_add(x, y):\n",
    "    return [ (xi + yi) % P for xi, yi in zip(x, y) ]\n",
    "\n",
    "def packed_sub(x, y):\n",
    "    return [ (xi - yi) % P for xi, yi in zip(x, y) ]\n",
    "\n",
    "def packed_mul(x, y):\n",
    "    return [ (xi * yi) % P for xi, yi in zip(x, y) ]"
   ]
  },
  {
   "cell_type": "code",
   "execution_count": 38,
   "metadata": {},
   "outputs": [],
   "source": [
    "class Packed:\n",
    "    \n",
    "    def __init__(self, secrets=None):\n",
    "        self.shares = packed_share([ encode(s) for s in secrets ]) if secrets is not None else []\n",
    "        self.degree = T+K-1\n",
    "    \n",
    "    def reveal(self):\n",
    "        assert(self.degree+1 <= N)\n",
    "        #print(packed_reconstruct(self.shares))\n",
    "        return [ decode(s) for s in packed_reconstruct(self.shares) ]\n",
    "    \n",
    "    def __repr__(self):\n",
    "        print(self.shares)\n",
    "        return \"Packed(%s)\" % self.reveal()\n",
    "    \n",
    "    def __add__(x, y):\n",
    "        z = Packed()\n",
    "        z.shares = packed_add(x.shares, y.shares)\n",
    "        z.degree = max(x.degree, y.degree)\n",
    "        return z\n",
    "    \n",
    "    def __sub__(x, y):\n",
    "        z = Packed()\n",
    "        z.shares = packed_sub(x.shares, y.shares)\n",
    "        z.degree = max(x.degree, y.degree)\n",
    "        return z\n",
    "    \n",
    "    def __mul__(x, y):\n",
    "        z = Packed()\n",
    "        z.shares = packed_mul(x.shares, y.shares)\n",
    "        z.degree = x.degree + y.degree\n",
    "        return z"
   ]
  },
  {
   "cell_type": "code",
   "execution_count": 39,
   "metadata": {},
   "outputs": [
    {
     "name": "stdout",
     "output_type": "stream",
     "text": [
      "[36, 2, 35, 29, 32, 18, 37, 5, 40, 33, 3, 21, 22, 39, 2, 4, 39, 3, 27, 31]\n",
      "Packed([2, 3])\n",
      "[12, 33, 26, 14, 15, 14, 2, 13, 27, 38, 35, 38, 30, 24, 2, 29, 19, 20, 38, 19]\n",
      "Packed([2, 3])\n",
      "[24, 10, 9, 15, 17, 4, 35, 33, 13, 36, 9, 24, 33, 15, 0, 16, 20, 24, 30, 12]\n",
      "Packed([0, 0])\n",
      "[22, 25, 8, 37, 29, 6, 33, 24, 14, 24, 23, 19, 4, 34, 4, 34, 3, 19, 1, 15]\n",
      "Packed([4, 9])\n"
     ]
    }
   ],
   "source": [
    "x = Packed([2,3])\n",
    "print(x)\n",
    "\n",
    "y = Packed([2,3])\n",
    "print(y)\n",
    "\n",
    "z = x - y\n",
    "print(z)\n",
    "assert(z.reveal() == [0,0])\n",
    "\n",
    "v = x * y\n",
    "print(v)\n",
    "assert(v.reveal() == [4,9])"
   ]
  },
  {
   "cell_type": "code",
   "execution_count": null,
   "metadata": {},
   "outputs": [],
   "source": []
  }
 ],
 "metadata": {
  "kernelspec": {
   "display_name": "Python 3",
   "language": "python",
   "name": "python3"
  },
  "language_info": {
   "codemirror_mode": {
    "name": "ipython",
    "version": 3
   },
   "file_extension": ".py",
   "mimetype": "text/x-python",
   "name": "python",
   "nbconvert_exporter": "python",
   "pygments_lexer": "ipython3",
   "version": "3.6.8"
  }
 },
 "nbformat": 4,
 "nbformat_minor": 2
}
