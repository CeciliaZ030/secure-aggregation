{
 "cells": [
  {
   "cell_type": "code",
   "execution_count": 19,
   "metadata": {},
   "outputs": [
    {
     "name": "stdout",
     "output_type": "stream",
     "text": [
      "open timed_20_200.txt\n",
      "open timed_20_400.txt\n",
      "open timed_20_600.txt\n",
      "open timed_20_800.txt\n",
      "open timed_20_1000.txt\n",
      "open timed_40_200.txt\n",
      "open timed_40_400.txt\n",
      "open timed_40_600.txt\n",
      "open timed_40_800.txt\n",
      "open timed_40_1000.txt\n",
      "open timed_60_200.txt\n",
      "open timed_60_400.txt\n",
      "open timed_60_600.txt\n",
      "open timed_60_800.txt\n",
      "open timed_60_1000.txt\n",
      "open timed_80_200.txt\n",
      "open timed_80_400.txt\n",
      "open timed_80_600.txt\n",
      "open timed_80_800.txt\n",
      "open timed_80_1000.txt\n",
      "open timed_100_200.txt\n",
      "open timed_100_400.txt\n",
      "open timed_100_600.txt\n",
      "open timed_100_800.txt\n",
      "open timed_100_1000.txt\n",
      "[[[175, 211, 1270, 83, 152, 22], [188, 230, 1251, 124, 2564, 19], [2515, 184, 1501, 226, 2555, 48], [172, 184, 1501, 226, 2555, 48], [176, 196, 1786, 560, 2555, 87]], [[413, 538, 4394, 299, 2586, 56], [404, 513, 4602, 470, 302, 126], [418, 584, 4696, 602, 2633, 140], [420, 502, 4878, 648, 2579, 173], [401, 476, 5429, 1012, 2583, 224]], [[669, 849, 9925, 824, 2661, 128], [673, 799, 10515, 1078, 2620, 231], [658, 861, 10625, 1347, 401, 348], [649, 811, 10902, 1516, 2729, 413], [645, 819, 11894, 2146, 2567, 617]], [[939, 1211, 17465, 1213, 2735, 207], [918, 1153, 18051, 1362, 2756, 414], [915, 1236, 18089, 1474, 2568, 573], [928, 1309, 18561, 1866, 2602, 828], [937, 1280, 19201, 2302, 2587, 1033]], [[1200, 1750, 27385, 1742, 2778, 364], [1187, 1612, 28215, 2272, 2745, 684], [1190, 1897, 28710, 2374, 2611, 837], [1212, 1737, 29793, 2704, 2690, 1308], [1198, 1752, 30932, 3341, 2616, 1816]]]\n",
      "[[[90.45, 908.0, 181.75, 145.65, 0.0, 32.25], [98.6, 963.15, 222.1, 168.4, 0.0, 29.55], [90.15, 917.3, 386.0, 285.0, 0.0, 24.1], [90.15, 917.3, 386.0, 285.0, 0.0, 24.1], [90.55, 925.75, 743.25, 556.35, 0.0, 35.45]], [[52.65, 3140.275, 410.55, 376.175, 0.0, 29.65], [50.4, 3131.425, 631.275, 488.5, 0.0, 50.4], [51.275, 3235.7, 774.15, 653.025, 0.0, 56.4], [51.975, 3023.9, 881.525, 698.3, 0.0, 61.275], [54.925, 3051.4, 1338.525, 1009.15, 0.0, 63.55]], [[42.2, 6537.2, 923.8666666666667, 856.5666666666667, 0.0, 50.15], [39.4, 6486.166666666667, 1315.7, 1123.3666666666666, 0.0, 99.16666666666667], [39.43333333333333, 6550.0, 1612.3833333333334, 1402.2666666666667, 0.0, 80.78333333333333], [37.416666666666664, 6418.866666666667, 1789.5, 1560.5333333333333, 0.0, 91.68333333333334], [39.81666666666667, 6545.983333333334, 2689.016666666667, 2242.0833333333335, 0.0, 74.83333333333333]], [[33.925, 11365.8, 1269.475, 1269.625, 0.0, 102.925], [34.25, 11172.9625, 1639.5125, 1488.95, 0.0, 90.6625], [31.375, 11351.7125, 1741.3375, 1587.3625, 0.0, 109.9125], [32.1875, 11288.4, 2353.0875, 2000.15, 0.0, 59.7625], [32.0875, 11340.925, 2890.175, 2426.5875, 0.0, 112.4125]], [[27.73, 17374.96, 2072.64, 1966.58, 0.0, 86.38], [29.86, 17432.75, 2732.69, 2327.3, 0.0, 78.81], [29.2, 17636.17, 3075.36, 2441.59, 0.0, 75.43], [27.34, 17318.3, 4133.45, 3071.74, 0.0, 71.07], [27.75, 17344.44, 5067.5, 3739.46, 0.0, 134.86]]]\n"
     ]
    }
   ],
   "source": [
    "s_table = [[[0,0,0,0,0,0] for _ in range(5)] for _ in range(5)]\n",
    "c_table = [[[] for _ in range(5)] for _ in range(5)]\n",
    "\n",
    "for ni,n in enumerate([20,40,60,80,100]):\n",
    "    for mi,m in enumerate([200,400,600,800,1000]):\n",
    "        file = \"timed_\" + str(n) + \"_\" + str(m) + \".txt\"\n",
    "        f = open(file)\n",
    "        print(\"open \" + file)\n",
    "        lines = f.readlines()\n",
    "        ss = 0\n",
    "        c_sum = [0,0,0,0,0,0]\n",
    "        for line in lines:\n",
    "            linesplit = line.split()\n",
    "            if \"- State\" in line:\n",
    "                s_table[ni][mi][ss] = int(linesplit[-1][:-2])\n",
    "                ss += 1\n",
    "            elif \"State\" in line:\n",
    "                if len(linesplit) >= 2:\n",
    "                    c_sum[int(linesplit[1])-1] += int(linesplit[3][:-2])\n",
    "        c_table[ni][mi] = [summ/n for summ in c_sum]\n",
    "        \n",
    "print(s_table)\n",
    "print(c_table)"
   ]
  },
  {
   "cell_type": "code",
   "execution_count": 37,
   "metadata": {},
   "outputs": [
    {
     "name": "stdout",
     "output_type": "stream",
     "text": [
      "[176, 401, 645, 937, 1198]\n",
      "[196, 476, 819, 1280, 1752]\n",
      "[1786, 5429, 11894, 19201, 30932]\n",
      "[560, 1012, 2146, 2302, 3341]\n",
      "[87, 224, 617, 1033, 1816]\n"
     ]
    },
    {
     "ename": "AttributeError",
     "evalue": "'AxesSubplot' object has no property 'width'",
     "output_type": "error",
     "traceback": [
      "\u001b[1;31m---------------------------------------------------------------------------\u001b[0m",
      "\u001b[1;31mAttributeError\u001b[0m                            Traceback (most recent call last)",
      "\u001b[1;32m<ipython-input-37-caddd1b30ae2>\u001b[0m in \u001b[0;36m<module>\u001b[1;34m\u001b[0m\n\u001b[0;32m     27\u001b[0m \u001b[1;31m#y = [c_sub[-1] for c_sub in s_table]\u001b[0m\u001b[1;33m\u001b[0m\u001b[1;33m\u001b[0m\u001b[1;33m\u001b[0m\u001b[0m\n\u001b[0;32m     28\u001b[0m \u001b[1;33m\u001b[0m\u001b[0m\n\u001b[1;32m---> 29\u001b[1;33m \u001b[0max\u001b[0m\u001b[1;33m.\u001b[0m\u001b[0mset\u001b[0m\u001b[1;33m(\u001b[0m\u001b[0mxlabel\u001b[0m\u001b[1;33m=\u001b[0m\u001b[1;34m'#clients'\u001b[0m\u001b[1;33m,\u001b[0m \u001b[0mylabel\u001b[0m\u001b[1;33m=\u001b[0m\u001b[1;34m'server running time'\u001b[0m\u001b[1;33m,\u001b[0m \u001b[0mwidth\u001b[0m \u001b[1;33m=\u001b[0m \u001b[1;36m300\u001b[0m\u001b[1;33m)\u001b[0m\u001b[1;33m\u001b[0m\u001b[1;33m\u001b[0m\u001b[0m\n\u001b[0m\u001b[0;32m     30\u001b[0m \u001b[0max\u001b[0m\u001b[1;33m.\u001b[0m\u001b[0mgrid\u001b[0m\u001b[1;33m(\u001b[0m\u001b[1;33m)\u001b[0m\u001b[1;33m\u001b[0m\u001b[1;33m\u001b[0m\u001b[0m\n\u001b[0;32m     31\u001b[0m \u001b[0mplt\u001b[0m\u001b[1;33m.\u001b[0m\u001b[0mlegend\u001b[0m\u001b[1;33m(\u001b[0m\u001b[0mloc\u001b[0m\u001b[1;33m=\u001b[0m\u001b[1;34m\"upper left\"\u001b[0m\u001b[1;33m)\u001b[0m\u001b[1;33m\u001b[0m\u001b[1;33m\u001b[0m\u001b[0m\n",
      "\u001b[1;32mC:\\ProgramData\\Anaconda3\\lib\\site-packages\\matplotlib\\artist.py\u001b[0m in \u001b[0;36mset\u001b[1;34m(self, **kwargs)\u001b[0m\n\u001b[0;32m   1111\u001b[0m         \u001b[1;32mif\u001b[0m \u001b[0mmove_color_to_start\u001b[0m\u001b[1;33m:\u001b[0m\u001b[1;33m\u001b[0m\u001b[1;33m\u001b[0m\u001b[0m\n\u001b[0;32m   1112\u001b[0m             \u001b[0mkwargs\u001b[0m \u001b[1;33m=\u001b[0m \u001b[1;33m{\u001b[0m\u001b[1;34m\"color\"\u001b[0m\u001b[1;33m:\u001b[0m \u001b[0mkwargs\u001b[0m\u001b[1;33m.\u001b[0m\u001b[0mpop\u001b[0m\u001b[1;33m(\u001b[0m\u001b[1;34m\"color\"\u001b[0m\u001b[1;33m)\u001b[0m\u001b[1;33m,\u001b[0m \u001b[1;33m**\u001b[0m\u001b[0mkwargs\u001b[0m\u001b[1;33m}\u001b[0m\u001b[1;33m\u001b[0m\u001b[1;33m\u001b[0m\u001b[0m\n\u001b[1;32m-> 1113\u001b[1;33m         \u001b[1;32mreturn\u001b[0m \u001b[0mself\u001b[0m\u001b[1;33m.\u001b[0m\u001b[0mupdate\u001b[0m\u001b[1;33m(\u001b[0m\u001b[0mkwargs\u001b[0m\u001b[1;33m)\u001b[0m\u001b[1;33m\u001b[0m\u001b[1;33m\u001b[0m\u001b[0m\n\u001b[0m\u001b[0;32m   1114\u001b[0m \u001b[1;33m\u001b[0m\u001b[0m\n\u001b[0;32m   1115\u001b[0m     \u001b[1;32mdef\u001b[0m \u001b[0mfindobj\u001b[0m\u001b[1;33m(\u001b[0m\u001b[0mself\u001b[0m\u001b[1;33m,\u001b[0m \u001b[0mmatch\u001b[0m\u001b[1;33m=\u001b[0m\u001b[1;32mNone\u001b[0m\u001b[1;33m,\u001b[0m \u001b[0minclude_self\u001b[0m\u001b[1;33m=\u001b[0m\u001b[1;32mTrue\u001b[0m\u001b[1;33m)\u001b[0m\u001b[1;33m:\u001b[0m\u001b[1;33m\u001b[0m\u001b[1;33m\u001b[0m\u001b[0m\n",
      "\u001b[1;32mC:\\ProgramData\\Anaconda3\\lib\\site-packages\\matplotlib\\artist.py\u001b[0m in \u001b[0;36mupdate\u001b[1;34m(self, props)\u001b[0m\n\u001b[0;32m    994\u001b[0m                     \u001b[0mfunc\u001b[0m \u001b[1;33m=\u001b[0m \u001b[0mgetattr\u001b[0m\u001b[1;33m(\u001b[0m\u001b[0mself\u001b[0m\u001b[1;33m,\u001b[0m \u001b[1;34mf\"set_{k}\"\u001b[0m\u001b[1;33m,\u001b[0m \u001b[1;32mNone\u001b[0m\u001b[1;33m)\u001b[0m\u001b[1;33m\u001b[0m\u001b[1;33m\u001b[0m\u001b[0m\n\u001b[0;32m    995\u001b[0m                     \u001b[1;32mif\u001b[0m \u001b[1;32mnot\u001b[0m \u001b[0mcallable\u001b[0m\u001b[1;33m(\u001b[0m\u001b[0mfunc\u001b[0m\u001b[1;33m)\u001b[0m\u001b[1;33m:\u001b[0m\u001b[1;33m\u001b[0m\u001b[1;33m\u001b[0m\u001b[0m\n\u001b[1;32m--> 996\u001b[1;33m                         raise AttributeError(f\"{type(self).__name__!r} object \"\n\u001b[0m\u001b[0;32m    997\u001b[0m                                              f\"has no property {k!r}\")\n\u001b[0;32m    998\u001b[0m                     \u001b[0mret\u001b[0m\u001b[1;33m.\u001b[0m\u001b[0mappend\u001b[0m\u001b[1;33m(\u001b[0m\u001b[0mfunc\u001b[0m\u001b[1;33m(\u001b[0m\u001b[0mv\u001b[0m\u001b[1;33m)\u001b[0m\u001b[1;33m)\u001b[0m\u001b[1;33m\u001b[0m\u001b[1;33m\u001b[0m\u001b[0m\n",
      "\u001b[1;31mAttributeError\u001b[0m: 'AxesSubplot' object has no property 'width'"
     ]
    },
    {
     "data": {
      "image/png": "[encoded data removed]",
      "text/plain": [
       "<Figure size 432x288 with 1 Axes>"
      ]
     },
     "metadata": {
      "needs_background": "light"
     },
     "output_type": "display_data"
    }
   ],
   "source": [
    "import matplotlib\n",
    "import matplotlib.pyplot as plt\n",
    "import numpy as np\n",
    "\n",
    "# Data for plotting\n",
    "x = [20,40,60,80,100]\n",
    "fig, ax = plt.subplots()\n",
    "\n",
    "y = [c_sub[-1][0] for c_sub in s_table]\n",
    "print(y)\n",
    "ax.plot(x, y, label = \"Handshake\")\n",
    "y = [c_sub[-1][1] for c_sub in s_table]\n",
    "print(y)\n",
    "ax.plot(x, y, label = \"Key Exchang\")\n",
    "y = [c_sub[-1][2] for c_sub in s_table]\n",
    "print(y)\n",
    "ax.plot(x, y, label = \"Input Sharing\")\n",
    "y = [c_sub[-1][3] for c_sub in s_table]\n",
    "print(y)\n",
    "# ax.plot(x, y, label = \"Error Correction\")\n",
    "# y = [c_sub[-1][4] for c_sub in s_table]\n",
    "# print(y)\n",
    "ax.plot(x, y, label = \"Shares Collection\")\n",
    "y = [c_sub[-1][5] for c_sub in s_table]\n",
    "print(y)\n",
    "ax.plot(x, y, label = \"Aggregation\")\n",
    "#y = [c_sub[-1] for c_sub in s_table]\n",
    "\n",
    "ax.set(xlabel='#clients', ylabel='server running time')\n",
    "ax.grid()\n",
    "plt.legend(loc=\"upper left\")\n",
    "pl\n",
    "fig.savefig(\"test.png\")\n",
    "plt.show()"
   ]
  },
  {
   "cell_type": "code",
   "execution_count": null,
   "metadata": {},
   "outputs": [],
   "source": []
  }
 ],
 "metadata": {
  "kernelspec": {
   "display_name": "Python 3",
   "language": "python",
   "name": "python3"
  },
  "language_info": {
   "codemirror_mode": {
    "name": "ipython",
    "version": 3
   },
   "file_extension": ".py",
   "mimetype": "text/x-python",
   "name": "python",
   "nbconvert_exporter": "python",
   "pygments_lexer": "ipython3",
   "version": "3.8.5"
  }
 },
 "nbformat": 4,
 "nbformat_minor": 4
}
