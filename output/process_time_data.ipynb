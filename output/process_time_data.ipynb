{
 "cells": [
  {
   "cell_type": "code",
   "execution_count": 17,
   "metadata": {},
   "outputs": [
    {
     "name": "stdout",
     "output_type": "stream",
     "text": [
      "open timed_20_200.txt\n",
      "open timed_20_400.txt\n",
      "open timed_20_600.txt\n",
      "open timed_20_800.txt\n",
      "open timed_40_200.txt\n",
      "open timed_40_400.txt\n",
      "open timed_40_600.txt\n",
      "open timed_40_800.txt\n",
      "open timed_60_200.txt\n",
      "open timed_60_400.txt\n",
      "open timed_60_600.txt\n",
      "open timed_60_800.txt\n",
      "open timed_80_200.txt\n",
      "open timed_80_400.txt\n",
      "open timed_80_600.txt\n",
      "open timed_80_800.txt\n",
      "[[['170ms', '227ms', '1169ms', '142ms', '2558ms', 0], ['186ms', '238ms', '1231ms', '120ms', '150ms', 0], ['175ms', '250ms', '1326ms', '217ms', '2557ms', 0], ['178ms', '235ms', '1442ms', '185ms', '212ms', 0]], [['396ms', '450ms', '4560ms', '371ms', '2656ms', 0], ['409ms', '785ms', '4247ms', '530ms', '2573ms', 0], ['395ms', '609ms', '4670ms', '598ms', '2661ms', 0], ['396ms', '491ms', '4953ms', '681ms', '280ms', 0]], [['656ms', '897ms', '10028ms', '804ms', '2699ms', 0], ['642ms', '884ms', '10329ms', '1054ms', '460ms', 0], ['654ms', '916ms', '10675ms', '1307ms', '2569ms', 0], ['643ms', '831ms', '11564ms', '1403ms', '2575ms', 0]], [['921ms', '1259ms', 0, 0, 0, 0], ['944ms', '1234ms', '17964ms', '1497ms', '2753ms', 0], ['912ms', '1313ms', '17932ms', '1607ms', '2637ms', 0], ['927ms', '1233ms', '18654ms', '1904ms', '2619ms', 0]]]\n",
      "[[[90.65, 952.4, 201.2, 164.0, 0.0, 28.75], [107.85, 969.0, 214.1, 160.85, 0.0, 29.1], [90.55, 958.85, 329.65, 264.25, 0.0, 31.35], [89.85, 948.15, 379.7, 276.45, 0.0, 31.15]], [[56.85, 3038.65, 430.675, 401.0, 0.0, 52.075], [58.225, 3456.175, 617.55, 524.85, 0.0, 63.625], [57.55, 3171.325, 767.775, 637.9, 0.0, 51.25], [54.35, 3031.075, 874.8, 689.5, 0.0, 58.925]], [[43.25, 6529.0, 902.85, 867.8833333333333, 0.0, 52.166666666666664], [44.983333333333334, 6559.866666666667, 1324.7166666666667, 1133.6333333333334, 0.0, 93.98333333333333], [40.18333333333333, 6680.133333333333, 1594.05, 1384.2166666666667, 0.0, 43.86666666666667], [40.016666666666666, 6466.833333333333, 2159.866666666667, 1542.7, 0.0, 58.06666666666667]], [[36.5875, 11281.7375, 0.0, 0.0, 0.0, 0.0], [32.4, 11168.475, 1658.2375, 1527.1875, 0.0, 90.9875], [34.8375, 11336.7375, 1770.5, 1617.0625, 0.0, 95.8], [33.7125, 11249.1875, 2318.25, 2002.2375, 0.0, 69.45]]]\n"
     ]
    }
   ],
   "source": [
    "s_table = [[[0,0,0,0,0,0] for _ in range(4)] for _ in range(4)]\n",
    "c_table = [[[] for _ in range(4)] for _ in range(4)]\n",
    "\n",
    "for ni,n in enumerate([20,40,60,80]):\n",
    "    for mi,m in enumerate([200,400,600,800]):\n",
    "        file = \"timed_\" + str(n) + \"_\" + str(m) + \".txt\"\n",
    "        f = open(file)\n",
    "        print(\"open \" + file)\n",
    "        lines = f.readlines()\n",
    "        ss = 0\n",
    "        c_sum = [0,0,0,0,0,0]\n",
    "        for line in lines:\n",
    "            linesplit = line.split()\n",
    "            if \"- State\" in line:\n",
    "                s_table[ni][mi][ss] = linesplit[-1]\n",
    "                ss += 1\n",
    "            elif \"State\" in line:\n",
    "                c_sum[int(linesplit[1])-1] += int(linesplit[3][:-2])\n",
    "        c_table[ni][mi] = [summ/n for summ in c_sum]\n",
    "                \n",
    "print(s_table)\n",
    "print(c_table)"
   ]
  },
  {
   "cell_type": "code",
   "execution_count": null,
   "metadata": {},
   "outputs": [],
   "source": []
  }
 ],
 "metadata": {
  "kernelspec": {
   "display_name": "Python 3",
   "language": "python",
   "name": "python3"
  },
  "language_info": {
   "codemirror_mode": {
    "name": "ipython",
    "version": 3
   },
   "file_extension": ".py",
   "mimetype": "text/x-python",
   "name": "python",
   "nbconvert_exporter": "python",
   "pygments_lexer": "ipython3",
   "version": "3.8.5"
  }
 },
 "nbformat": 4,
 "nbformat_minor": 4
}
